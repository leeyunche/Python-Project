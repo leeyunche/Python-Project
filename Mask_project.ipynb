{
  "nbformat": 4,
  "nbformat_minor": 0,
  "metadata": {
    "colab": {
      "provenance": [],
      "authorship_tag": "ABX9TyMbqeEMrxIXE+sZXtTIzJrz",
      "include_colab_link": true
    },
    "kernelspec": {
      "name": "python3",
      "display_name": "Python 3"
    },
    "language_info": {
      "name": "python"
    }
  },
  "cells": [
    {
      "cell_type": "markdown",
      "metadata": {
        "id": "view-in-github",
        "colab_type": "text"
      },
      "source": [
        "<a href=\"https://colab.research.google.com/github/leeyunche/hello-colab/blob/main/Mask_project.ipynb\" target=\"_parent\"><img src=\"https://colab.research.google.com/assets/colab-badge.svg\" alt=\"Open In Colab\"/></a>"
      ]
    },
    {
      "cell_type": "code",
      "execution_count": 5,
      "metadata": {
        "id": "5yPIJgiKm5Oo"
      },
      "outputs": [],
      "source": [
        "import requests\n",
        "import json\n",
        "\n",
        "# 利用 requests 對 API 來源發送一個請求\n",
        "url = \"https://raw.githubusercontent.com/kiang/pharmacies/master/json/points.json\"\n",
        "response = requests.get(url)\n",
        "\n",
        "# 將請求回應的內容存成一個字串格式\n",
        "s = response.text\n",
        "\n",
        "# 將長得像 json 格式的字串解析成字典或列表\n",
        "data = json.loads(s)"
      ]
    },
    {
      "cell_type": "code",
      "source": [
        "# 計算各地區藥局數量\n",
        "med_count = {}\n",
        "\n",
        "# 填入欄位名稱\n",
        "for s in data[\"features\"]:\n",
        "    county = s[\"properties\"][\"address\"][:3]\n",
        "    med_count[county] = med_count.get(county, 0) + 1  # 若county在字典中，返回縣市出現的次數再加1，若無則返回0\n",
        "\n",
        "print(med_count)"
      ],
      "metadata": {
        "id": "cqgnqbOu7nci",
        "outputId": "19ac9cb3-4e12-4637-82cf-02600e1e578b",
        "colab": {
          "base_uri": "https://localhost:8080/"
        }
      },
      "execution_count": 6,
      "outputs": [
        {
          "output_type": "stream",
          "name": "stdout",
          "text": [
            "{'臺北市': 340, '高雄市': 424, '臺中市': 436, '臺南市': 280, '基隆市': 57, '新竹市': 39, '嘉義市': 67, '新北市': 507, '桃園市': 271, '新竹縣': 48, '宜蘭縣': 76, '苗栗縣': 57, '彰化縣': 181, '南投縣': 67, '雲林縣': 131, '嘉義縣': 84, '屏東縣': 140, '澎湖縣': 11, '花蓮縣': 47, '臺東縣': 23, '金門縣': 6, '連江縣': 1}\n"
          ]
        }
      ]
    },
    {
      "cell_type": "code",
      "source": [
        "# 計算出每個地區的成人剩餘口罩數量，將結果從大到小排列\n",
        "\n",
        "mask_count = {}\n",
        "\n",
        "# 填入欄位名稱\n",
        "for s in data[\"features\"]:\n",
        "    county = s[\"properties\"][\"address\"][:3]\n",
        "    mask_count[county] = mask_count.get(county, 0) + s[\"properties\"][\"mask_adult\"]\n",
        "\n",
        "# 將結果從大到小排列\n",
        "mask_count = dict(sorted(mask_count.items(), key=lambda item: item[1], reverse = True))\n",
        "\n",
        "print(mask_count)"
      ],
      "metadata": {
        "id": "nBeGY0uG7sGW",
        "outputId": "290de64f-a0bd-49d7-f264-1d4ef18f9524",
        "colab": {
          "base_uri": "https://localhost:8080/"
        }
      },
      "execution_count": 7,
      "outputs": [
        {
          "output_type": "stream",
          "name": "stdout",
          "text": [
            "{'新北市': 677660, '臺中市': 556440, '高雄市': 428940, '臺南市': 408400, '桃園市': 345600, '臺北市': 323660, '彰化縣': 219400, '雲林縣': 199470, '屏東縣': 184250, '苗栗縣': 134180, '嘉義縣': 113180, '嘉義市': 107840, '宜蘭縣': 106900, '南投縣': 91240, '基隆市': 80100, '花蓮縣': 57330, '新竹縣': 53760, '新竹市': 45630, '臺東縣': 28510, '金門縣': 15510, '澎湖縣': 12600, '連江縣': 7930}\n"
          ]
        }
      ]
    },
    {
      "cell_type": "code",
      "source": [
        "# 資料庫操作實作"
      ],
      "metadata": {
        "id": "0DFiOu85JSk6"
      },
      "execution_count": null,
      "outputs": []
    },
    {
      "cell_type": "code",
      "source": [
        "import sqlite3\n",
        "import datetime\n",
        "import requests\n",
        "import json"
      ],
      "metadata": {
        "id": "_CAcugRdJaXI"
      },
      "execution_count": 8,
      "outputs": []
    },
    {
      "cell_type": "code",
      "source": [
        "# 將各地區的藥局數量存入資料庫的 pharmacies 表格，欄位包含「地區」、「數量」、「新增時間」\n",
        "\n",
        "conn = sqlite3.connect('example.db')\n",
        "c = conn.cursor()\n",
        "\n",
        "# 新增且清空資料表\n",
        "c.execute('''CREATE TABLE IF NOT EXISTS pharmacies\n",
        "             (city text, counts text, createdAt datetime)''')\n",
        "c.execute('''DELETE FROM pharmacies''')\n",
        "conn.commit()\n",
        "\n",
        "# 新增資料\n",
        "url = \"https://raw.githubusercontent.com/kiang/pharmacies/master/json/points.json\"\n",
        "response = requests.get(url)\n",
        "s = response.text\n",
        "data = json.loads(s)\n",
        "\n",
        "# 整理資料\n",
        "med_count = {}\n",
        "for s in data[\"features\"]:\n",
        "    county = s[\"properties\"][\"address\"][0:3]\n",
        "    med_count[county] = med_count.get(county, 0) + 1\n",
        "\n",
        "# 將資料存至 database\n",
        "for city, counts in med_count.items():\n",
        "    t = datetime.datetime.now()\n",
        "    c.execute(f\"INSERT INTO pharmacies VALUES ('{city}', {counts}, '{t}')\")\n",
        "    conn.commit()\n",
        "\n",
        "# 查詢資料\n",
        "c.execute(\"SELECT * FROM pharmacies\")\n",
        "print(c.fetchall())\n",
        "conn.commit()\n",
        "conn.close()"
      ],
      "metadata": {
        "id": "YudoJCV0Jb9r",
        "outputId": "5d45bf98-e2d6-43fc-9696-820ee4c859db",
        "colab": {
          "base_uri": "https://localhost:8080/"
        }
      },
      "execution_count": 10,
      "outputs": [
        {
          "output_type": "stream",
          "name": "stdout",
          "text": [
            "[('臺北市', '340', '2024-04-17 08:26:03.165586'), ('高雄市', '424', '2024-04-17 08:26:03.175227'), ('臺中市', '436', '2024-04-17 08:26:03.182343'), ('臺南市', '280', '2024-04-17 08:26:03.189156'), ('基隆市', '57', '2024-04-17 08:26:03.196259'), ('新竹市', '39', '2024-04-17 08:26:03.203169'), ('嘉義市', '67', '2024-04-17 08:26:03.211133'), ('新北市', '507', '2024-04-17 08:26:03.218519'), ('桃園市', '271', '2024-04-17 08:26:03.226768'), ('新竹縣', '48', '2024-04-17 08:26:03.235116'), ('宜蘭縣', '76', '2024-04-17 08:26:03.242397'), ('苗栗縣', '57', '2024-04-17 08:26:03.249913'), ('彰化縣', '181', '2024-04-17 08:26:03.256736'), ('南投縣', '67', '2024-04-17 08:26:03.265716'), ('雲林縣', '131', '2024-04-17 08:26:03.272719'), ('嘉義縣', '84', '2024-04-17 08:26:03.279713'), ('屏東縣', '140', '2024-04-17 08:26:03.287064'), ('澎湖縣', '11', '2024-04-17 08:26:03.294527'), ('花蓮縣', '47', '2024-04-17 08:26:03.301777'), ('臺東縣', '23', '2024-04-17 08:26:03.309622'), ('金門縣', '6', '2024-04-17 08:26:03.317740'), ('連江縣', '1', '2024-04-17 08:26:03.325556')]\n"
          ]
        }
      ]
    },
    {
      "cell_type": "code",
      "source": [
        "# 將各地區的剩餘口罩存入資料庫的 masks 表格，欄位包含「地區」、「剩餘口罩數量」、「新增時間」\n",
        "\n",
        "conn = sqlite3.connect('example.db')\n",
        "c = conn.cursor()\n",
        "\n",
        "# 新增且清空資料表\n",
        "c.execute('''CREATE TABLE IF NOT EXISTS masks\n",
        "             (city text, mask_remain text, createdAt datetime)''')\n",
        "c.execute('''DELETE FROM masks''')\n",
        "conn.commit()\n",
        "\n",
        "# 整理資料\n",
        "mask_count = {}\n",
        "for s in data[\"features\"]:\n",
        "    county = s[\"properties\"][\"address\"][0:3]\n",
        "    mask_count[county] = mask_count.get(county, 0) + s[\"properties\"][\"mask_adult\"]\n",
        "\n",
        "# 將資料存入 database\n",
        "for city, counts in mask_count.items():\n",
        "  t = datetime.datetime.now()\n",
        "  c.execute(f\"INSERT INTO masks VALUES ('{city}', {counts}, '{t}')\")\n",
        "  conn.commit()\n",
        "\n",
        "# 查詢資料\n",
        "c.execute(\"SELECT * FROM masks\")\n",
        "print(c.fetchall())\n",
        "conn.commit()\n",
        "conn.close()"
      ],
      "metadata": {
        "id": "ZXBpVegHJ1nZ",
        "outputId": "4d68f990-dfc0-4cd0-ec3e-9968f3259a3c",
        "colab": {
          "base_uri": "https://localhost:8080/"
        }
      },
      "execution_count": 11,
      "outputs": [
        {
          "output_type": "stream",
          "name": "stdout",
          "text": [
            "[('臺北市', '323660', '2024-04-17 08:26:17.251840'), ('高雄市', '428940', '2024-04-17 08:26:17.261421'), ('臺中市', '556440', '2024-04-17 08:26:17.270273'), ('臺南市', '408400', '2024-04-17 08:26:17.279189'), ('基隆市', '80100', '2024-04-17 08:26:17.289067'), ('新竹市', '45630', '2024-04-17 08:26:17.298175'), ('嘉義市', '107840', '2024-04-17 08:26:17.306969'), ('新北市', '677660', '2024-04-17 08:26:17.317320'), ('桃園市', '345600', '2024-04-17 08:26:17.326490'), ('新竹縣', '53760', '2024-04-17 08:26:17.335204'), ('宜蘭縣', '106900', '2024-04-17 08:26:17.344125'), ('苗栗縣', '134180', '2024-04-17 08:26:17.352835'), ('彰化縣', '219400', '2024-04-17 08:26:17.361061'), ('南投縣', '91240', '2024-04-17 08:26:17.369975'), ('雲林縣', '199470', '2024-04-17 08:26:17.379116'), ('嘉義縣', '113180', '2024-04-17 08:26:17.388050'), ('屏東縣', '184250', '2024-04-17 08:26:17.397162'), ('澎湖縣', '12600', '2024-04-17 08:26:17.407018'), ('花蓮縣', '57330', '2024-04-17 08:26:17.417503'), ('臺東縣', '28510', '2024-04-17 08:26:17.428540'), ('金門縣', '15510', '2024-04-17 08:26:17.438818'), ('連江縣', '7930', '2024-04-17 08:26:17.447491')]\n"
          ]
        }
      ]
    }
  ]
}