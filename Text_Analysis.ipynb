{
  "nbformat": 4,
  "nbformat_minor": 0,
  "metadata": {
    "colab": {
      "provenance": [],
      "authorship_tag": "ABX9TyMRORO1P0LkLcvf6ux09WKU",
      "include_colab_link": true
    },
    "kernelspec": {
      "name": "python3",
      "display_name": "Python 3"
    },
    "language_info": {
      "name": "python"
    }
  },
  "cells": [
    {
      "cell_type": "markdown",
      "metadata": {
        "id": "view-in-github",
        "colab_type": "text"
      },
      "source": [
        "<a href=\"https://colab.research.google.com/github/leeyunche/Python-Project/blob/main/Text_Analysis.ipynb\" target=\"_parent\"><img src=\"https://colab.research.google.com/assets/colab-badge.svg\" alt=\"Open In Colab\"/></a>"
      ]
    },
    {
      "cell_type": "code",
      "execution_count": 1,
      "metadata": {
        "id": "9g2XCDh8LytQ"
      },
      "outputs": [],
      "source": [
        "import requests\n",
        "from bs4 import BeautifulSoup"
      ]
    },
    {
      "cell_type": "code",
      "source": [
        "# 利用 requests 對 API 來源發送一個請求\n",
        "response = requests.get('https://udn.com/news/breaknews/1')\n",
        "soup = BeautifulSoup(response.text)\n",
        "\n",
        "news = []\n",
        "for link in soup.find_all('h3', class_='rounded-thumb__title')[:4]:\n",
        "  news_url = link.a['href']\n",
        "  news_response = requests.get('https://udn.com' + news_url)\n",
        "  news_soup = BeautifulSoup(news_response.text)\n",
        "  news_content = news_soup.find('div', class_='article-content__paragraph').text.strip().replace('\\n', ' ')\n",
        "  news.append(news_content)"
      ],
      "metadata": {
        "id": "SeA6A9IqMiWd"
      },
      "execution_count": 2,
      "outputs": []
    },
    {
      "cell_type": "code",
      "source": [
        "# 安裝 jieba 中文斷詞套件\n",
        "!pip install jieba\n",
        "\n",
        "# 下載官方字典檔\n",
        "!wget https://raw.githubusercontent.com/fxsjy/jieba/master/extra_dict/dict.txt.big\n",
        "\n",
        "# 載入套件與字典檔\n",
        "import jieba\n",
        "jieba.load_userdict(\"dict.txt.big\")\n",
        "\n",
        "# 精確模式斷詞\n",
        "tokens = []\n",
        "word_count = {}\n",
        "for d in news:\n",
        "  token = list(jieba.cut(d, HMM=False)) # token = d 字串斷詞結果\n",
        "  tokens.append(token)\n",
        "  # 將斷詞後的結果計算成每個單字的出現次數（詞頻）\n",
        "  for w in token:\n",
        "    if w not in word_count:\n",
        "      word_count[w] = 1\n",
        "    else:\n",
        "      word_count[w] += 1"
      ],
      "metadata": {
        "id": "v2Vu9A-9Mtfj"
      },
      "execution_count": null,
      "outputs": []
    },
    {
      "cell_type": "code",
      "source": [
        "# 依照出現次數由多到少進行排序\n",
        "word_count = dict(sorted(word_count.items(), key=lambda item: item[1], reverse = True))\n",
        "print(word_count)"
      ],
      "metadata": {
        "id": "-WLyGaRdMzRc"
      },
      "execution_count": null,
      "outputs": []
    }
  ]
}